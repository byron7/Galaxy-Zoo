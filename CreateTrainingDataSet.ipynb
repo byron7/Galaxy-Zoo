{
 "cells": [
  {
   "cell_type": "code",
   "execution_count": 3,
   "metadata": {
    "collapsed": false
   },
   "outputs": [],
   "source": [
    "import os\n",
    "import sys\n",
    "import numpy as np\n",
    "#import cPickle as pickle\n",
    "import pickle\n",
    "from natsort import natsorted\n",
    "from PIL import Image\n",
    "import cv2\n",
    "import matplotlib.pyplot as plt"
   ]
  },
  {
   "cell_type": "code",
   "execution_count": 4,
   "metadata": {
    "collapsed": true
   },
   "outputs": [],
   "source": [
    "DIR_TRAIN_DATA_IMG = \"imageTrain10\"\n",
    "FILE_TRAIN_DATA_OUTPUT=\"train10.csv\"\n",
    "DIR_TEST_DATA_IMG=\"imageTest10\"\n",
    "IMAGE_SIZE = 128\n",
    "IMAGE_NUM_CHANNELS = 1\n",
    "CROP_SIZE = 200\n",
    "NUM_LABELS = 37"
   ]
  },
  {
   "cell_type": "code",
   "execution_count": 5,
   "metadata": {
    "collapsed": true
   },
   "outputs": [],
   "source": [
    "def image_process(img_array):\n",
    "    img_array = cv2.GaussianBlur(img_array, (17, 17), 0)\n",
    "    img_array = cv2.bitwise_not(img_array)\n",
    "    image=Image.fromarray(img_array)\n",
    "    if CROP_SIZE > 0:\n",
    "        (width, height) = image.size\n",
    "        left = (width-CROP_SIZE) / 2\n",
    "        top = (height-CROP_SIZE) / 2\n",
    "        right = left + CROP_SIZE\n",
    "        bottom = top + CROP_SIZE\n",
    "        image = image.crop((left, top, right, bottom))\n",
    "    if not (IMAGE_SIZE, IMAGE_SIZE) == image.size:\n",
    "        image = image.resize((IMAGE_SIZE, IMAGE_SIZE), Image.ANTIALIAS)\n",
    "\n",
    "    image = np.array(image)\n",
    "    image = image.reshape(-1)\n",
    "    return image\n"
   ]
  },
  {
   "cell_type": "code",
   "execution_count": 6,
   "metadata": {
    "collapsed": true
   },
   "outputs": [],
   "source": [
    "label_data = np.genfromtxt(FILE_TRAIN_DATA_OUTPUT, dtype=np.float32, delimiter=',', skip_header=1)\n",
    "train_current_batch = np.zeros((IMAGE_SIZE * IMAGE_SIZE * IMAGE_NUM_CHANNELS, 0), dtype=np.uint8)\n",
    "train_current_batch_label = np.zeros((NUM_LABELS, 0), dtype=np.float32)"
   ]
  },
  {
   "cell_type": "code",
   "execution_count": 7,
   "metadata": {
    "collapsed": false,
    "scrolled": true
   },
   "outputs": [
    {
     "data": {
      "text/plain": [
       "array([0, 1, 2, 3, 4, 5, 6, 7, 8, 9])"
      ]
     },
     "execution_count": 7,
     "metadata": {},
     "output_type": "execute_result"
    }
   ],
   "source": [
    "sorted_idx = label_data[:, 0].argsort()\n",
    "sorted_idx"
   ]
  },
  {
   "cell_type": "code",
   "execution_count": 8,
   "metadata": {
    "collapsed": false
   },
   "outputs": [],
   "source": [
    "label_data = label_data[sorted_idx, 1:]"
   ]
  },
  {
   "cell_type": "code",
   "execution_count": 9,
   "metadata": {
    "collapsed": true
   },
   "outputs": [],
   "source": [
    "label_data = label_data.T"
   ]
  },
  {
   "cell_type": "code",
   "execution_count": 10,
   "metadata": {
    "collapsed": true
   },
   "outputs": [],
   "source": [
    "train_names = [d for d in os.listdir(DIR_TRAIN_DATA_IMG) if d.endswith('.jpg')]"
   ]
  },
  {
   "cell_type": "code",
   "execution_count": 11,
   "metadata": {
    "collapsed": false
   },
   "outputs": [
    {
     "data": {
      "text/plain": [
       "['100053.jpg',\n",
       " '100078.jpg',\n",
       " '100134.jpg',\n",
       " '100123.jpg',\n",
       " '100128.jpg',\n",
       " '100008.jpg',\n",
       " '100143.jpg',\n",
       " '100090.jpg',\n",
       " '100122.jpg',\n",
       " '100023.jpg']"
      ]
     },
     "execution_count": 11,
     "metadata": {},
     "output_type": "execute_result"
    }
   ],
   "source": [
    "train_names"
   ]
  },
  {
   "cell_type": "code",
   "execution_count": 16,
   "metadata": {
    "collapsed": false
   },
   "outputs": [
    {
     "data": {
      "text/plain": [
       "['100008.jpg',\n",
       " '100023.jpg',\n",
       " '100053.jpg',\n",
       " '100078.jpg',\n",
       " '100090.jpg',\n",
       " '100122.jpg',\n",
       " '100123.jpg',\n",
       " '100128.jpg',\n",
       " '100134.jpg',\n",
       " '100143.jpg']"
      ]
     },
     "execution_count": 16,
     "metadata": {},
     "output_type": "execute_result"
    }
   ],
   "source": [
    "train_names = natsorted(train_names)\n",
    "num_trains = len(train_names)\n",
    "train_names"
   ]
  },
  {
   "cell_type": "code",
   "execution_count": 17,
   "metadata": {
    "collapsed": true
   },
   "outputs": [],
   "source": [
    "data_mean = np.zeros((IMAGE_SIZE * IMAGE_SIZE * IMAGE_NUM_CHANNELS, 1), dtype=np.float32)"
   ]
  },
  {
   "cell_type": "code",
   "execution_count": 18,
   "metadata": {
    "collapsed": false
   },
   "outputs": [
    {
     "data": {
      "text/plain": [
       "array([4, 8, 3, 5, 1, 2, 7, 9, 6, 0])"
      ]
     },
     "execution_count": 18,
     "metadata": {},
     "output_type": "execute_result"
    }
   ],
   "source": [
    "train_order = np.random.permutation(num_trains)\n",
    "train_order"
   ]
  },
  {
   "cell_type": "code",
   "execution_count": 19,
   "metadata": {
    "collapsed": true
   },
   "outputs": [],
   "source": [
    "for i in train_order:\n",
    "        image_file_name = train_names[i]\n",
    "        try:\n",
    "            image = cv2.imread(os.path.join(DIR_TRAIN_DATA_IMG, image_file_name), cv2.IMREAD_GRAYSCALE)\n",
    "            image = image_process(image)\n",
    "        except ValueError:\n",
    "            print(\"problem with train image {}\".format(image_file_name))\n",
    "            sys.exit(1)\n",
    "        image = image.reshape(-1, 1)\n",
    "        data_mean += image\n",
    "        train_current_batch = np.hstack((train_current_batch, image))\n",
    "        train_current_batch_label = np.hstack((train_current_batch_label,\n",
    "                                               label_data[:, i].reshape(-1, 1)))"
   ]
  },
  {
   "cell_type": "code",
   "execution_count": 20,
   "metadata": {
    "collapsed": false
   },
   "outputs": [
    {
     "data": {
      "text/plain": [
       "array([[228, 222, 216, ..., 247, 247, 248],\n",
       "       [251, 250, 249, ..., 250, 250, 248],\n",
       "       [243, 245, 246, ..., 244, 245, 247],\n",
       "       ..., \n",
       "       [251, 251, 252, ..., 251, 252, 253],\n",
       "       [245, 246, 248, ..., 252, 252, 251],\n",
       "       [250, 251, 251, ..., 250, 250, 250]], dtype=uint8)"
      ]
     },
     "execution_count": 20,
     "metadata": {},
     "output_type": "execute_result"
    }
   ],
   "source": [
    "train_image = train_current_batch.T\n",
    "train_image"
   ]
  },
  {
   "cell_type": "code",
   "execution_count": 22,
   "metadata": {
    "collapsed": true
   },
   "outputs": [],
   "source": [
    "train_values = train_current_batch_label.T"
   ]
  },
  {
   "cell_type": "code",
   "execution_count": 23,
   "metadata": {
    "collapsed": true
   },
   "outputs": [],
   "source": [
    "pickle_out = open(\"./pickles/X.pickle\", \"wb\")\n",
    "pickle.dump(train_image, pickle_out)\n",
    "pickle_out.close()"
   ]
  },
  {
   "cell_type": "code",
   "execution_count": 25,
   "metadata": {
    "collapsed": false
   },
   "outputs": [],
   "source": [
    "pickle_out = open(\"./pickles/y.pickle\", \"wb\")\n",
    "pickle.dump(train_values, pickle_out)\n",
    "pickle_out.close()"
   ]
  }
 ],
 "metadata": {
  "anaconda-cloud": {},
  "kernelspec": {
   "display_name": "Python [default]",
   "language": "python",
   "name": "python3"
  },
  "language_info": {
   "codemirror_mode": {
    "name": "ipython",
    "version": 3
   },
   "file_extension": ".py",
   "mimetype": "text/x-python",
   "name": "python",
   "nbconvert_exporter": "python",
   "pygments_lexer": "ipython3",
   "version": "3.5.4"
  }
 },
 "nbformat": 4,
 "nbformat_minor": 1
}
